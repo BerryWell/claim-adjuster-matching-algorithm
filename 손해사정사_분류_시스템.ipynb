{
  "nbformat": 4,
  "nbformat_minor": 0,
  "metadata": {
    "colab": {
      "provenance": [],
      "authorship_tag": "ABX9TyMjf69nknswfE7cmG1ZfP70",
      "include_colab_link": true
    },
    "kernelspec": {
      "name": "python3",
      "display_name": "Python 3"
    },
    "language_info": {
      "name": "python"
    }
  },
  "cells": [
    {
      "cell_type": "markdown",
      "metadata": {
        "id": "view-in-github",
        "colab_type": "text"
      },
      "source": [
        "<a href=\"https://colab.research.google.com/github/BerryWell/claim-adjuster-matching-algorithm/blob/main/%EC%86%90%ED%95%B4%EC%82%AC%EC%A0%95%EC%82%AC_%EB%B6%84%EB%A5%98_%EC%8B%9C%EC%8A%A4%ED%85%9C.ipynb\" target=\"_parent\"><img src=\"https://colab.research.google.com/assets/colab-badge.svg\" alt=\"Open In Colab\"/></a>"
      ]
    },
    {
      "cell_type": "markdown",
      "source": [
        "# 배경\n",
        "* 기술의 발전으로 사회가 복잡해지고 다양한 보험 상품이 출시됨\n",
        "* 이에 따른 보험금 청구 건수도 증가하고 관련 분쟁도 빈발하는 추세임\n",
        "* 보험금 청구 시 보험소비자는 독립 손해사정사를 선임할 권리가 있음\n",
        "* 하지만 관련 제도 홍보가 미비하여 이를 알고 있는 보험소비자도 적고 방법도 알고 있는 사람도 적음\n",
        "* 따라서 본 알고리즘을 개발하여 보험소비자가 상황에 적합한 손해사정사를 매칭받고, 향후 타당성을 검증해보고자 함.\n",
        "\n",
        "# 개요\n",
        "* 본 프로그램은 아래 동작을 수행한다.\n",
        "* 1. 보험사고 내용을 자연어(일상용어)로 입력한다.\n",
        "* 2. 인공지능(AI) 기반으로 보험업법 시행규칙에 따른 손해사정사(신체, 재물, 차량)로 분류한다.\n",
        "* 3. 보험소비자는 본인의 상황에 맞는 손해사정사의 분류를 안다.\n",
        "* 추후 계획\n",
        "* 1. 이 가능성을 바탕으로 향후 손해사정사 전문 분야 분류를 세분한다.\n",
        "* 2. 각 손해사정사의 이력, 상세 프로필, 소개를 토대로 모델을 학습하도록 할 예정이다.\n",
        "* 3. 손해사정사의 도움이 필요한 보험소비자가 적절한 손해사정사를 매칭받을 수 있도록 확장하여 손해사정사의 지위 향상과 보험소비자의 권익 향상을 하고자 한다.\n",
        "\n",
        "# 사용 알고리즘\n",
        "* 텍스트 전처리: konlp, Okt\n",
        "* 분류: tf-idf\n",
        "\n",
        "# 사용법\n",
        "* 아래 내용을 셀별로 실행한다."
      ],
      "metadata": {
        "id": "EiFtOaW2zJL6"
      }
    },
    {
      "cell_type": "code",
      "source": [
        "# @title 셀 왼쪽에 있는 플레이 버튼을 클릭하여 셀을 먼저 실행하세요. \"모델 생성이 완료되었습니다\" 메시지가 표시되면 아래 셀에 있는 폼에 내용을 입력하여 테스트해주세요.\n",
        "!pip install pandas scikit-learn konlpy\n",
        "\n",
        "import pandas as pd\n",
        "from sklearn.model_selection import train_test_split\n",
        "from sklearn.feature_extraction.text import TfidfVectorizer\n",
        "from sklearn.linear_model import LogisticRegression\n",
        "from sklearn.pipeline import Pipeline\n",
        "from sklearn.metrics import classification_report\n",
        "from konlpy.tag import Okt\n",
        "\n",
        "# 1. 형태소 분석기 정의\n",
        "okt = Okt()\n",
        "\n",
        "def tokenize(text):\n",
        "    return okt.morphs(text, stem=True)\n",
        "\n",
        "# 손해사정사 분류: 신체, 재물, 차량\n",
        "\n",
        "# 2. 예시 데이터 (3개 카테고리)\n",
        "# 20개 데이터\n",
        "data = {\n",
        "    \"text\": [\n",
        "        \"어제 저녁 집에서 회사로 가는 길에 넘어져서 도움이 필요합니다.\",\n",
        "        \"위암 진단을 받았는데 보험금을 어떻게 청구해야할지 몰라요.\",\n",
        "        \"실손보험 청구했는데 보험금 지급 거절당했어요.\",\n",
        "        \"뇌출혈로 쓰러진 형제가 있는데 보험금을 어떻게 청구해야할까요?\",\n",
        "        \"간병보험의 청구 절차가 궁금해요.\",\n",
        "        \"며칠 전 음식점에서 밥을 먹다가 돌을 씹어서 이가 부러졌어요. 어떻게 대처해야하나요?\",\n",
        "        \"간경화가 있는데 간암으로 발전되었어요. 보험금을 제대로 받을 수 있나요?\",\n",
        "        \"최근에 복강경 수술을 받아서 보험금 청구가 필요해요.\",\n",
        "        \"길을 가다가 실수로 다른 사람의 휴대폰을 부수었어요.\",\n",
        "        \"저희 집 강아지가 다른 사람 지갑을 물어뜯었어요.\",\n",
        "        \"집에 불이 났는데 어떻게 보상받을 수 있나요?\",\n",
        "        \"옆에 있는 하천이 범람해서 저희 집이 침수되었어요.\",\n",
        "        \"집에 있던 노트북이 폭발해서 옆에 있는 귀중품에도 피해를 입었어요.\",\n",
        "        \"운영하는 공장에 있는 기계가 갑자기 멈추었어요. 보험금 청구를 하고 싶어요.\",\n",
        "        \"운전하고 가다가 실수로 길가에 있는 변압기를 쳐서 고장냈어요.\",\n",
        "        \"어제 집앞 교차로에서 직진하다가 불법유턴하는 차랑 사고가 났어요.\",\n",
        "        \"고속도로에 진입하다가 트럭과 사고가 났어요.\",\n",
        "        \"횡단보도에서 사람을 실수로 치었어요. 어떻게 대처해야하나요?\",\n",
        "        \"버스랑 사고가 났어요.\",\n",
        "        \"신호위반으로 사고를 냈어요.\",\n",
        "        \"중앙선침범 차량과 사고가 났어요.\",\n",
        "        \"음주운전차와 사고가 났어요.\"\n",
        "    ],\n",
        "    \"label\": [\n",
        "        \"신체\",\n",
        "        \"신체\",\n",
        "        \"신체\",\n",
        "        \"신체\",\n",
        "        \"신체\",\n",
        "        \"신체\",\n",
        "        \"신체\",\n",
        "        \"신체\",\n",
        "        \"신체\",\n",
        "        \"재물\",\n",
        "        \"재물\",\n",
        "        \"재물\",\n",
        "        \"재물\",\n",
        "        \"재물\",\n",
        "        \"재물\",\n",
        "        \"차량\",\n",
        "        \"차량\",\n",
        "        \"차량\",\n",
        "        \"차량\",\n",
        "        \"차량\",\n",
        "        \"차량\",\n",
        "        \"차량\"\n",
        "    ]\n",
        "}\n",
        "\n",
        "# 3. 데이터프레임 생성\n",
        "df = pd.DataFrame(data)\n",
        "\n",
        "# 4. 학습/테스트 분할\n",
        "X_train, X_test, y_train, y_test = train_test_split(df[\"text\"], df[\"label\"], test_size=0.1, random_state=42)\n",
        "\n",
        "# 5. 벡터라이저 + 모델 파이프라인\n",
        "model = Pipeline([\n",
        "    ('tfidf', TfidfVectorizer(tokenizer=tokenize, max_features=500)),\n",
        "    ('clf', LogisticRegression(max_iter=1000))\n",
        "])\n",
        "\n",
        "# 6. 학습\n",
        "model.fit(X_train, y_train)\n",
        "\n",
        "# 7. 평가\n",
        "y_pred = model.predict(X_test)\n",
        "print(\"분류 성능:\\n\")\n",
        "print(classification_report(y_test, y_pred))\n",
        "\n",
        "# 8. 예측 함수\n",
        "def classify_korean_text(text):\n",
        "    pred = model.predict([text])[0]\n",
        "    return pred\n",
        "\n",
        "print('모델 생성이 완료되었습니다!!!')"
      ],
      "metadata": {
        "colab": {
          "base_uri": "https://localhost:8080/"
        },
        "id": "V3O9Of1xqjJb",
        "outputId": "9f09514e-e030-4f92-b08d-572f1f14f199",
        "cellView": "form"
      },
      "execution_count": 62,
      "outputs": [
        {
          "output_type": "stream",
          "name": "stdout",
          "text": [
            "Requirement already satisfied: pandas in /usr/local/lib/python3.11/dist-packages (2.2.2)\n",
            "Requirement already satisfied: scikit-learn in /usr/local/lib/python3.11/dist-packages (1.6.1)\n",
            "Requirement already satisfied: konlpy in /usr/local/lib/python3.11/dist-packages (0.6.0)\n",
            "Requirement already satisfied: numpy>=1.23.2 in /usr/local/lib/python3.11/dist-packages (from pandas) (2.0.2)\n",
            "Requirement already satisfied: python-dateutil>=2.8.2 in /usr/local/lib/python3.11/dist-packages (from pandas) (2.8.2)\n",
            "Requirement already satisfied: pytz>=2020.1 in /usr/local/lib/python3.11/dist-packages (from pandas) (2025.2)\n",
            "Requirement already satisfied: tzdata>=2022.7 in /usr/local/lib/python3.11/dist-packages (from pandas) (2025.2)\n",
            "Requirement already satisfied: scipy>=1.6.0 in /usr/local/lib/python3.11/dist-packages (from scikit-learn) (1.14.1)\n",
            "Requirement already satisfied: joblib>=1.2.0 in /usr/local/lib/python3.11/dist-packages (from scikit-learn) (1.4.2)\n",
            "Requirement already satisfied: threadpoolctl>=3.1.0 in /usr/local/lib/python3.11/dist-packages (from scikit-learn) (3.6.0)\n",
            "Requirement already satisfied: JPype1>=0.7.0 in /usr/local/lib/python3.11/dist-packages (from konlpy) (1.5.2)\n",
            "Requirement already satisfied: lxml>=4.1.0 in /usr/local/lib/python3.11/dist-packages (from konlpy) (5.3.1)\n",
            "Requirement already satisfied: packaging in /usr/local/lib/python3.11/dist-packages (from JPype1>=0.7.0->konlpy) (24.2)\n",
            "Requirement already satisfied: six>=1.5 in /usr/local/lib/python3.11/dist-packages (from python-dateutil>=2.8.2->pandas) (1.17.0)\n",
            "분류 성능:\n",
            "\n",
            "              precision    recall  f1-score   support\n",
            "\n",
            "          신체       0.50      0.50      0.50         2\n",
            "          재물       0.00      0.00      0.00         1\n",
            "\n",
            "    accuracy                           0.33         3\n",
            "   macro avg       0.25      0.25      0.25         3\n",
            "weighted avg       0.33      0.33      0.33         3\n",
            "\n",
            "모델 생성이 완료되었습니다!!!\n"
          ]
        },
        {
          "output_type": "stream",
          "name": "stderr",
          "text": [
            "/usr/local/lib/python3.11/dist-packages/sklearn/feature_extraction/text.py:517: UserWarning: The parameter 'token_pattern' will not be used since 'tokenizer' is not None'\n",
            "  warnings.warn(\n"
          ]
        }
      ]
    },
    {
      "cell_type": "code",
      "source": [
        "# @title Default title text\n",
        "example = \"공장 가동이 멈추었어요.\" # @param {\"type\":\"string\",\"placeholder\":\"도움이 필요한 내용을 입력해주세요.(예. 항암 치료비를 청구해야해요. 운전하다가 사고가 났어요. 등)\"}\n",
        "#example = \"암치료해야해요.\"\n",
        "# 예시 테스트\n",
        "print(f\"\\n입력 문장: '{example}'\")\n",
        "print(f\"분류 결과: {classify_korean_text(example)}\")"
      ],
      "metadata": {
        "id": "vboF3s_Hqk17",
        "colab": {
          "base_uri": "https://localhost:8080/"
        },
        "cellView": "form",
        "outputId": "9f843e15-26aa-4383-c2ae-36b6f90f4c3d"
      },
      "execution_count": 66,
      "outputs": [
        {
          "output_type": "stream",
          "name": "stdout",
          "text": [
            "\n",
            "입력 문장: '공장 가동이 멈추었어요.'\n",
            "분류 결과: 재물\n"
          ]
        }
      ]
    },
    {
      "cell_type": "code",
      "source": [],
      "metadata": {
        "id": "VxHl3poOyPZl"
      },
      "execution_count": null,
      "outputs": []
    }
  ]
}